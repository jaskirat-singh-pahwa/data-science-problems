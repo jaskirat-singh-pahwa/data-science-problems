{
 "cells": [
  {
   "cell_type": "code",
   "execution_count": 27,
   "metadata": {},
   "outputs": [],
   "source": [
    "import numpy as np\n",
    "import pandas as pd\n",
    "import matplotlib.pyplot as plt\n",
    "from sklearn import preprocessing\n",
    "from sklearn.model_selection import cross_validate\n",
    "from sklearn.cluster import KMeans\n",
    "from sklearn.cluster import MeanShift\n",
    "from matplotlib import style\n",
    "style.use(\"ggplot\")"
   ]
  },
  {
   "cell_type": "markdown",
   "metadata": {},
   "source": [
    "# KMeans Clustering"
   ]
  },
  {
   "cell_type": "code",
   "execution_count": 28,
   "metadata": {},
   "outputs": [
    {
     "data": {
      "text/html": [
       "<div>\n",
       "<style scoped>\n",
       "    .dataframe tbody tr th:only-of-type {\n",
       "        vertical-align: middle;\n",
       "    }\n",
       "\n",
       "    .dataframe tbody tr th {\n",
       "        vertical-align: top;\n",
       "    }\n",
       "\n",
       "    .dataframe thead th {\n",
       "        text-align: right;\n",
       "    }\n",
       "</style>\n",
       "<table border=\"1\" class=\"dataframe\">\n",
       "  <thead>\n",
       "    <tr style=\"text-align: right;\">\n",
       "      <th></th>\n",
       "      <th>pclass</th>\n",
       "      <th>survived</th>\n",
       "      <th>name</th>\n",
       "      <th>sex</th>\n",
       "      <th>age</th>\n",
       "      <th>sibsp</th>\n",
       "      <th>parch</th>\n",
       "      <th>ticket</th>\n",
       "      <th>fare</th>\n",
       "      <th>cabin</th>\n",
       "      <th>embarked</th>\n",
       "      <th>boat</th>\n",
       "      <th>body</th>\n",
       "      <th>home.dest</th>\n",
       "    </tr>\n",
       "  </thead>\n",
       "  <tbody>\n",
       "    <tr>\n",
       "      <th>0</th>\n",
       "      <td>1</td>\n",
       "      <td>1</td>\n",
       "      <td>Allen, Miss. Elisabeth Walton</td>\n",
       "      <td>female</td>\n",
       "      <td>29.0000</td>\n",
       "      <td>0</td>\n",
       "      <td>0</td>\n",
       "      <td>24160</td>\n",
       "      <td>211.3375</td>\n",
       "      <td>B5</td>\n",
       "      <td>S</td>\n",
       "      <td>2</td>\n",
       "      <td>NaN</td>\n",
       "      <td>St Louis, MO</td>\n",
       "    </tr>\n",
       "    <tr>\n",
       "      <th>1</th>\n",
       "      <td>1</td>\n",
       "      <td>1</td>\n",
       "      <td>Allison, Master. Hudson Trevor</td>\n",
       "      <td>male</td>\n",
       "      <td>0.9167</td>\n",
       "      <td>1</td>\n",
       "      <td>2</td>\n",
       "      <td>113781</td>\n",
       "      <td>151.5500</td>\n",
       "      <td>C22 C26</td>\n",
       "      <td>S</td>\n",
       "      <td>11</td>\n",
       "      <td>NaN</td>\n",
       "      <td>Montreal, PQ / Chesterville, ON</td>\n",
       "    </tr>\n",
       "    <tr>\n",
       "      <th>2</th>\n",
       "      <td>1</td>\n",
       "      <td>0</td>\n",
       "      <td>Allison, Miss. Helen Loraine</td>\n",
       "      <td>female</td>\n",
       "      <td>2.0000</td>\n",
       "      <td>1</td>\n",
       "      <td>2</td>\n",
       "      <td>113781</td>\n",
       "      <td>151.5500</td>\n",
       "      <td>C22 C26</td>\n",
       "      <td>S</td>\n",
       "      <td>NaN</td>\n",
       "      <td>NaN</td>\n",
       "      <td>Montreal, PQ / Chesterville, ON</td>\n",
       "    </tr>\n",
       "    <tr>\n",
       "      <th>3</th>\n",
       "      <td>1</td>\n",
       "      <td>0</td>\n",
       "      <td>Allison, Mr. Hudson Joshua Creighton</td>\n",
       "      <td>male</td>\n",
       "      <td>30.0000</td>\n",
       "      <td>1</td>\n",
       "      <td>2</td>\n",
       "      <td>113781</td>\n",
       "      <td>151.5500</td>\n",
       "      <td>C22 C26</td>\n",
       "      <td>S</td>\n",
       "      <td>NaN</td>\n",
       "      <td>135.0</td>\n",
       "      <td>Montreal, PQ / Chesterville, ON</td>\n",
       "    </tr>\n",
       "    <tr>\n",
       "      <th>4</th>\n",
       "      <td>1</td>\n",
       "      <td>0</td>\n",
       "      <td>Allison, Mrs. Hudson J C (Bessie Waldo Daniels)</td>\n",
       "      <td>female</td>\n",
       "      <td>25.0000</td>\n",
       "      <td>1</td>\n",
       "      <td>2</td>\n",
       "      <td>113781</td>\n",
       "      <td>151.5500</td>\n",
       "      <td>C22 C26</td>\n",
       "      <td>S</td>\n",
       "      <td>NaN</td>\n",
       "      <td>NaN</td>\n",
       "      <td>Montreal, PQ / Chesterville, ON</td>\n",
       "    </tr>\n",
       "  </tbody>\n",
       "</table>\n",
       "</div>"
      ],
      "text/plain": [
       "   pclass  survived                                             name     sex  \\\n",
       "0       1         1                    Allen, Miss. Elisabeth Walton  female   \n",
       "1       1         1                   Allison, Master. Hudson Trevor    male   \n",
       "2       1         0                     Allison, Miss. Helen Loraine  female   \n",
       "3       1         0             Allison, Mr. Hudson Joshua Creighton    male   \n",
       "4       1         0  Allison, Mrs. Hudson J C (Bessie Waldo Daniels)  female   \n",
       "\n",
       "       age  sibsp  parch  ticket      fare    cabin embarked boat   body  \\\n",
       "0  29.0000      0      0   24160  211.3375       B5        S    2    NaN   \n",
       "1   0.9167      1      2  113781  151.5500  C22 C26        S   11    NaN   \n",
       "2   2.0000      1      2  113781  151.5500  C22 C26        S  NaN    NaN   \n",
       "3  30.0000      1      2  113781  151.5500  C22 C26        S  NaN  135.0   \n",
       "4  25.0000      1      2  113781  151.5500  C22 C26        S  NaN    NaN   \n",
       "\n",
       "                         home.dest  \n",
       "0                     St Louis, MO  \n",
       "1  Montreal, PQ / Chesterville, ON  \n",
       "2  Montreal, PQ / Chesterville, ON  \n",
       "3  Montreal, PQ / Chesterville, ON  \n",
       "4  Montreal, PQ / Chesterville, ON  "
      ]
     },
     "execution_count": 28,
     "metadata": {},
     "output_type": "execute_result"
    }
   ],
   "source": [
    "titanicDf = pd.read_excel(\"/Users/jaskiratsinghp/Desktop/PersonalStuff/Datasets/titanic.xls\")\n",
    "\n",
    "titanicDf_copy = pd.DataFrame.copy(titanicDf)\n",
    "\n",
    "'''\n",
    "1.) Pclass: Passenger Class (1 = 1st; 2 = 2nd; 3 = 3rd)\n",
    "2.) survival: Survival (0 = No; 1 = Yes) THESE ARE THE LABELS.\n",
    "3.) name: Name\n",
    "4.) sex: Sex\n",
    "5.) age: Age\n",
    "6.) sibsp: Number of Siblings/Spouses Aboard\n",
    "7.) parch: Number of Parents/Children Aboard\n",
    "8.) ticket: Ticket Number\n",
    "9.) fare: Passenger Fare (British pound)\n",
    "10.) cabin: Cabin\n",
    "11.) embarked: Port of Embarkation (C = Cherbourg; Q = Queenstown; S = Southampton)\n",
    "12.) boat: Lifeboat\n",
    "13.) body: Body Identification Number\n",
    "14.) home.dest: Home/Destination\n",
    "'''\n",
    "titanicDf.head()"
   ]
  },
  {
   "cell_type": "code",
   "execution_count": 29,
   "metadata": {
    "scrolled": true
   },
   "outputs": [
    {
     "data": {
      "text/html": [
       "<div>\n",
       "<style scoped>\n",
       "    .dataframe tbody tr th:only-of-type {\n",
       "        vertical-align: middle;\n",
       "    }\n",
       "\n",
       "    .dataframe tbody tr th {\n",
       "        vertical-align: top;\n",
       "    }\n",
       "\n",
       "    .dataframe thead th {\n",
       "        text-align: right;\n",
       "    }\n",
       "</style>\n",
       "<table border=\"1\" class=\"dataframe\">\n",
       "  <thead>\n",
       "    <tr style=\"text-align: right;\">\n",
       "      <th></th>\n",
       "      <th>pclass</th>\n",
       "      <th>survived</th>\n",
       "      <th>sex</th>\n",
       "      <th>age</th>\n",
       "      <th>sibsp</th>\n",
       "      <th>parch</th>\n",
       "      <th>ticket</th>\n",
       "      <th>fare</th>\n",
       "      <th>cabin</th>\n",
       "      <th>embarked</th>\n",
       "      <th>boat</th>\n",
       "      <th>home.dest</th>\n",
       "    </tr>\n",
       "  </thead>\n",
       "  <tbody>\n",
       "    <tr>\n",
       "      <th>0</th>\n",
       "      <td>1</td>\n",
       "      <td>1</td>\n",
       "      <td>female</td>\n",
       "      <td>29.0000</td>\n",
       "      <td>0</td>\n",
       "      <td>0</td>\n",
       "      <td>24160</td>\n",
       "      <td>211.3375</td>\n",
       "      <td>B5</td>\n",
       "      <td>S</td>\n",
       "      <td>2</td>\n",
       "      <td>St Louis, MO</td>\n",
       "    </tr>\n",
       "    <tr>\n",
       "      <th>1</th>\n",
       "      <td>1</td>\n",
       "      <td>1</td>\n",
       "      <td>male</td>\n",
       "      <td>0.9167</td>\n",
       "      <td>1</td>\n",
       "      <td>2</td>\n",
       "      <td>113781</td>\n",
       "      <td>151.5500</td>\n",
       "      <td>C22 C26</td>\n",
       "      <td>S</td>\n",
       "      <td>11</td>\n",
       "      <td>Montreal, PQ / Chesterville, ON</td>\n",
       "    </tr>\n",
       "    <tr>\n",
       "      <th>2</th>\n",
       "      <td>1</td>\n",
       "      <td>0</td>\n",
       "      <td>female</td>\n",
       "      <td>2.0000</td>\n",
       "      <td>1</td>\n",
       "      <td>2</td>\n",
       "      <td>113781</td>\n",
       "      <td>151.5500</td>\n",
       "      <td>C22 C26</td>\n",
       "      <td>S</td>\n",
       "      <td>0</td>\n",
       "      <td>Montreal, PQ / Chesterville, ON</td>\n",
       "    </tr>\n",
       "    <tr>\n",
       "      <th>3</th>\n",
       "      <td>1</td>\n",
       "      <td>0</td>\n",
       "      <td>male</td>\n",
       "      <td>30.0000</td>\n",
       "      <td>1</td>\n",
       "      <td>2</td>\n",
       "      <td>113781</td>\n",
       "      <td>151.5500</td>\n",
       "      <td>C22 C26</td>\n",
       "      <td>S</td>\n",
       "      <td>0</td>\n",
       "      <td>Montreal, PQ / Chesterville, ON</td>\n",
       "    </tr>\n",
       "    <tr>\n",
       "      <th>4</th>\n",
       "      <td>1</td>\n",
       "      <td>0</td>\n",
       "      <td>female</td>\n",
       "      <td>25.0000</td>\n",
       "      <td>1</td>\n",
       "      <td>2</td>\n",
       "      <td>113781</td>\n",
       "      <td>151.5500</td>\n",
       "      <td>C22 C26</td>\n",
       "      <td>S</td>\n",
       "      <td>0</td>\n",
       "      <td>Montreal, PQ / Chesterville, ON</td>\n",
       "    </tr>\n",
       "  </tbody>\n",
       "</table>\n",
       "</div>"
      ],
      "text/plain": [
       "   pclass  survived     sex      age  sibsp  parch  ticket      fare    cabin  \\\n",
       "0       1         1  female  29.0000      0      0   24160  211.3375       B5   \n",
       "1       1         1    male   0.9167      1      2  113781  151.5500  C22 C26   \n",
       "2       1         0  female   2.0000      1      2  113781  151.5500  C22 C26   \n",
       "3       1         0    male  30.0000      1      2  113781  151.5500  C22 C26   \n",
       "4       1         0  female  25.0000      1      2  113781  151.5500  C22 C26   \n",
       "\n",
       "  embarked boat                        home.dest  \n",
       "0        S    2                     St Louis, MO  \n",
       "1        S   11  Montreal, PQ / Chesterville, ON  \n",
       "2        S    0  Montreal, PQ / Chesterville, ON  \n",
       "3        S    0  Montreal, PQ / Chesterville, ON  \n",
       "4        S    0  Montreal, PQ / Chesterville, ON  "
      ]
     },
     "execution_count": 29,
     "metadata": {},
     "output_type": "execute_result"
    }
   ],
   "source": [
    "titanicDf.drop([\"name\" , \"body\"] , axis = 1 , inplace = True)\n",
    "\n",
    "titanicDf.fillna(0 , inplace = True)\n",
    "\n",
    "# titanicDf.convert_objects(convert_numeric=True)\n",
    "\n",
    "titanicDf.head()"
   ]
  },
  {
   "cell_type": "code",
   "execution_count": 30,
   "metadata": {
    "scrolled": true
   },
   "outputs": [
    {
     "data": {
      "text/plain": [
       "pclass         int64\n",
       "survived       int64\n",
       "sex           object\n",
       "age          float64\n",
       "sibsp          int64\n",
       "parch          int64\n",
       "ticket        object\n",
       "fare         float64\n",
       "cabin         object\n",
       "embarked      object\n",
       "boat          object\n",
       "home.dest     object\n",
       "dtype: object"
      ]
     },
     "execution_count": 30,
     "metadata": {},
     "output_type": "execute_result"
    }
   ],
   "source": [
    "titanicDf.dtypes"
   ]
  },
  {
   "cell_type": "code",
   "execution_count": 31,
   "metadata": {
    "scrolled": true
   },
   "outputs": [
    {
     "name": "stdout",
     "output_type": "stream",
     "text": [
      "<class 'pandas.core.frame.DataFrame'>\n",
      "RangeIndex: 1309 entries, 0 to 1308\n",
      "Data columns (total 12 columns):\n",
      "pclass       1309 non-null int64\n",
      "survived     1309 non-null int64\n",
      "sex          1309 non-null object\n",
      "age          1309 non-null float64\n",
      "sibsp        1309 non-null int64\n",
      "parch        1309 non-null int64\n",
      "ticket       1309 non-null object\n",
      "fare         1309 non-null float64\n",
      "cabin        1309 non-null object\n",
      "embarked     1309 non-null object\n",
      "boat         1309 non-null object\n",
      "home.dest    1309 non-null object\n",
      "dtypes: float64(2), int64(4), object(6)\n",
      "memory usage: 122.8+ KB\n"
     ]
    }
   ],
   "source": [
    "titanicDf.info()"
   ]
  },
  {
   "cell_type": "markdown",
   "metadata": {},
   "source": [
    "### Now we have null values in columns \"cabin\" , \"embarked\" and \"home.dest\" and we are putting 0 where we have null values so in this column we have some string values and some integers now.\n",
    "\n",
    "### So we can't perform label encoding on them either it should be all string or all integers."
   ]
  },
  {
   "cell_type": "code",
   "execution_count": 32,
   "metadata": {},
   "outputs": [],
   "source": [
    "# from sklearn.preprocessing import LabelEncoder\n",
    "\n",
    "# label_encoder = LabelEncoder()\n",
    "\n",
    "# titanicDf[\"sex\"] = label_encoder.fit_transform(titanicDf[\"sex\"])\n",
    "# titanicDf[\"cabin\"] = label_encoder.fit_transform(titanicDf[\"cabin\"])\n",
    "# titanicDf[\"embarked\"] = label_encoder.fit_transform(titanicDf[\"embarked\"])\n",
    "# titanicDf[\"home.dest\"] = label_encoder.fit_transform(titanicDf[\"home.dest\"])\n",
    "\n"
   ]
  },
  {
   "cell_type": "code",
   "execution_count": 33,
   "metadata": {},
   "outputs": [],
   "source": [
    "\n",
    "def handle_non_numerical_data(titanicDf):\n",
    "    \n",
    "    columns = titanicDf.columns.values\n",
    "    \n",
    "    for column in columns:\n",
    "        \n",
    "        text_digit_vals = {}\n",
    "        \n",
    "        def convert_to_int(val):\n",
    "            \n",
    "            return text_digit_vals[val]\n",
    "        \n",
    "        if titanicDf[column].dtype != np.int64 and titanicDf[column].dtype != np.float64:\n",
    "            \n",
    "            column_contents = titanicDf[column].values.tolist()\n",
    "            unique_elements = set(column_contents)\n",
    "            \n",
    "            x = 0\n",
    "            \n",
    "            for unique in unique_elements:\n",
    "                if unique not in text_digit_vals:\n",
    "                    \n",
    "                    text_digit_vals[unique] = x\n",
    "                    \n",
    "                    x += 1\n",
    "            \n",
    "            titanicDf[column] = list(map(convert_to_int , titanicDf[column]))\n",
    "            \n",
    "    return titanicDf\n",
    "                "
   ]
  },
  {
   "cell_type": "code",
   "execution_count": 34,
   "metadata": {},
   "outputs": [
    {
     "name": "stdout",
     "output_type": "stream",
     "text": [
      "   pclass  survived  sex      age  sibsp  parch  ticket      fare  cabin  \\\n",
      "0       1         1    0  29.0000      0      0     749  211.3375    182   \n",
      "1       1         1    1   0.9167      1      2     515  151.5500    160   \n",
      "2       1         0    0   2.0000      1      2     515  151.5500    160   \n",
      "3       1         0    1  30.0000      1      2     515  151.5500    160   \n",
      "4       1         0    0  25.0000      1      2     515  151.5500    160   \n",
      "\n",
      "   embarked  boat  home.dest  \n",
      "0         2     2        140  \n",
      "1         2    27         11  \n",
      "2         2     0         11  \n",
      "3         2     0         11  \n",
      "4         2     0         11  \n"
     ]
    }
   ],
   "source": [
    "titanicDf = handle_non_numerical_data(titanicDf)\n",
    "\n",
    "print(titanicDf.head())"
   ]
  },
  {
   "cell_type": "code",
   "execution_count": 35,
   "metadata": {
    "scrolled": false
   },
   "outputs": [
    {
     "data": {
      "text/plain": [
       "pclass         int64\n",
       "survived       int64\n",
       "sex            int64\n",
       "age          float64\n",
       "sibsp          int64\n",
       "parch          int64\n",
       "ticket         int64\n",
       "fare         float64\n",
       "cabin          int64\n",
       "embarked       int64\n",
       "boat           int64\n",
       "home.dest      int64\n",
       "dtype: object"
      ]
     },
     "execution_count": 35,
     "metadata": {},
     "output_type": "execute_result"
    }
   ],
   "source": [
    "titanicDf.dtypes"
   ]
  },
  {
   "cell_type": "code",
   "execution_count": 36,
   "metadata": {},
   "outputs": [],
   "source": [
    "titanicDf.drop([\"sex\" , \"boat\"] , axis = 1 , inplace = True)\n",
    "\n",
    "X = np.array(titanicDf.drop([\"survived\"] , axis = 1).astype(float))\n",
    "X = preprocessing.scale(X)\n",
    "\n",
    "y = np.array(titanicDf[\"survived\"])"
   ]
  },
  {
   "cell_type": "code",
   "execution_count": 37,
   "metadata": {},
   "outputs": [
    {
     "data": {
      "text/plain": [
       "KMeans(algorithm='auto', copy_x=True, init='k-means++', max_iter=300,\n",
       "       n_clusters=2, n_init=10, n_jobs=None, precompute_distances='auto',\n",
       "       random_state=None, tol=0.0001, verbose=0)"
      ]
     },
     "execution_count": 37,
     "metadata": {},
     "output_type": "execute_result"
    }
   ],
   "source": [
    "kmeansClassifier = KMeans(n_clusters = 2)\n",
    "kmeansClassifier.fit(X)"
   ]
  },
  {
   "cell_type": "code",
   "execution_count": 38,
   "metadata": {
    "scrolled": false
   },
   "outputs": [
    {
     "name": "stdout",
     "output_type": "stream",
     "text": [
      "Accuracy:  0.6860198624904508\n"
     ]
    }
   ],
   "source": [
    "correct = 0\n",
    "\n",
    "for i in range(len(X)):\n",
    "    \n",
    "    predict_me = np.array(X[i].astype(float))\n",
    "    predict_me = predict_me.reshape(-1 , len(predict_me))\n",
    "    \n",
    "    prediction = kmeansClassifier.predict(predict_me)\n",
    "    \n",
    "    if prediction[0] == y[i]:\n",
    "        correct += 1\n",
    "        \n",
    "print(\"Accuracy: \" , correct / len(X))"
   ]
  },
  {
   "cell_type": "code",
   "execution_count": 39,
   "metadata": {},
   "outputs": [
    {
     "data": {
      "text/plain": [
       "(9,)"
      ]
     },
     "execution_count": 39,
     "metadata": {},
     "output_type": "execute_result"
    }
   ],
   "source": [
    "X[0].shape"
   ]
  },
  {
   "cell_type": "code",
   "execution_count": 40,
   "metadata": {},
   "outputs": [
    {
     "data": {
      "text/plain": [
       "(1, 9)"
      ]
     },
     "execution_count": 40,
     "metadata": {},
     "output_type": "execute_result"
    }
   ],
   "source": [
    "X[0].reshape(-1 , len(X[0])).shape"
   ]
  },
  {
   "cell_type": "code",
   "execution_count": 41,
   "metadata": {},
   "outputs": [
    {
     "data": {
      "text/plain": [
       "array([0], dtype=int32)"
      ]
     },
     "execution_count": 41,
     "metadata": {},
     "output_type": "execute_result"
    }
   ],
   "source": [
    "prediction"
   ]
  },
  {
   "cell_type": "markdown",
   "metadata": {},
   "source": [
    "# Mean Shift Clustering"
   ]
  },
  {
   "cell_type": "code",
   "execution_count": 43,
   "metadata": {},
   "outputs": [
    {
     "name": "stderr",
     "output_type": "stream",
     "text": [
      "/Library/Frameworks/Python.framework/Versions/3.7/lib/python3.7/site-packages/pandas/core/indexing.py:190: SettingWithCopyWarning: \n",
      "A value is trying to be set on a copy of a slice from a DataFrame\n",
      "\n",
      "See the caveats in the documentation: http://pandas.pydata.org/pandas-docs/stable/indexing.html#indexing-view-versus-copy\n",
      "  self._setitem_with_indexer(indexer, value)\n"
     ]
    },
    {
     "name": "stdout",
     "output_type": "stream",
     "text": [
      "{0: 0.3776387802971071, 1: 0.8, 2: 0.1}\n"
     ]
    }
   ],
   "source": [
    "meanShiftClassifier = MeanShift()\n",
    "meanShiftClassifier.fit(X)\n",
    "\n",
    "labels = meanShiftClassifier.labels_\n",
    "cluster_centers = meanShiftClassifier.cluster_centers_\n",
    "\n",
    "\n",
    "titanicDf_copy[\"cluster_group\"] = np.nan\n",
    "\n",
    "for i in range(len(X)):\n",
    "    \n",
    "    titanicDf_copy[\"cluster_group\"].iloc[i] = labels[i]\n",
    "\n",
    "survival_rates = {}\n",
    "\n",
    "n_clusters_ = len(np.unique(labels))\n",
    "\n",
    "for i in range (n_clusters_):\n",
    "    \n",
    "    temp_df = titanicDf_copy[ (titanicDf_copy[\"cluster_group\"] == float(i)) ]\n",
    "    \n",
    "    survival_cluster = temp_df[ (temp_df[\"survived\"] == 1) ]\n",
    "    \n",
    "    survival_rate = len(survival_cluster) / len(temp_df)\n",
    "    \n",
    "    survival_rates[i] = survival_rate\n",
    "\n",
    "print(survival_rates)\n",
    "    "
   ]
  },
  {
   "cell_type": "code",
   "execution_count": 55,
   "metadata": {},
   "outputs": [
    {
     "name": "stdout",
     "output_type": "stream",
     "text": [
      "\n",
      "\n",
      "\n",
      "\n",
      "\u001b[1mDataframe for Group 1:\u001b[0m\n",
      "\n",
      "    pclass  survived                                               name  \\\n",
      "16       1         0                           Baxter, Mr. Quigg Edmond   \n",
      "17       1         1    Baxter, Mrs. James (Helene DeLaudeniere Chaput)   \n",
      "35       1         1                           Bowen, Miss. Grace Scott   \n",
      "49       1         1                 Cardeza, Mr. Thomas Drake Martinez   \n",
      "50       1         1  Cardeza, Mrs. James Warburton Martinez (Charlo...   \n",
      "\n",
      "       sex   age  sibsp  parch    ticket      fare        cabin embarked boat  \\\n",
      "16    male  24.0      0      1  PC 17558  247.5208      B58 B60        C  NaN   \n",
      "17  female  50.0      0      1  PC 17558  247.5208      B58 B60        C    6   \n",
      "35  female  45.0      0      0  PC 17608  262.3750          NaN        C    4   \n",
      "49    male  36.0      0      1  PC 17755  512.3292  B51 B53 B55        C    3   \n",
      "50  female  58.0      0      1  PC 17755  512.3292  B51 B53 B55        C    3   \n",
      "\n",
      "    body                                       home.dest  cluster_group  \n",
      "16   NaN                                    Montreal, PQ            1.0  \n",
      "17   NaN                                    Montreal, PQ            1.0  \n",
      "35   NaN                                 Cooperstown, NY            1.0  \n",
      "49   NaN  Austria-Hungary / Germantown, Philadelphia, PA            1.0  \n",
      "50   NaN                    Germantown, Philadelphia, PA            1.0  \n",
      "\n",
      "\n",
      "\n",
      "\n",
      "\u001b[1mDescription:\u001b[0m\n",
      "\n",
      "       pclass   survived        age      sibsp      parch        fare  body  \\\n",
      "count    20.0  20.000000  20.000000  20.000000  20.000000   20.000000   0.0   \n",
      "mean      1.0   0.800000  36.250000   1.150000   1.650000  310.325210   NaN   \n",
      "std       0.0   0.410391  15.993008   1.182103   1.225819  103.768021   NaN   \n",
      "min       1.0   0.000000  13.000000   0.000000   0.000000  247.520800   NaN   \n",
      "25%       1.0   1.000000  23.750000   0.000000   1.000000  262.375000   NaN   \n",
      "50%       1.0   1.000000  35.000000   1.000000   2.000000  262.687500   NaN   \n",
      "75%       1.0   1.000000  48.500000   2.000000   2.000000  263.000000   NaN   \n",
      "max       1.0   1.000000  64.000000   3.000000   4.000000  512.329200   NaN   \n",
      "\n",
      "       cluster_group  \n",
      "count           20.0  \n",
      "mean             1.0  \n",
      "std              0.0  \n",
      "min              1.0  \n",
      "25%              1.0  \n",
      "50%              1.0  \n",
      "75%              1.0  \n",
      "max              1.0  \n"
     ]
    }
   ],
   "source": [
    "## We can see that there are 3 groups now:\n",
    "## In group 1 there is 37% Survival Rate\n",
    "## In group 2 there is 80% Survival Rate\n",
    "## In group3 there is 10% Survival Rate\n",
    "\n",
    "print(\"\\n\\n\\n\\n\" + \"\\033[1m\" + \"Dataframe for Group 1:\" + \"\\033[0m\" + \"\\n\")\n",
    "\n",
    "print(titanicDf_copy[ (titanicDf_copy[\"cluster_group\"] == 1) ].head())\n",
    "\n",
    "print(\"\\n\\n\\n\\n\" + \"\\033[1m\" + \"Description:\" + \"\\033[0m\" + \"\\n\")\n",
    "\n",
    "print(titanicDf_copy[ (titanicDf_copy[\"cluster_group\"] == 1) ].describe())"
   ]
  },
  {
   "cell_type": "code",
   "execution_count": 56,
   "metadata": {},
   "outputs": [
    {
     "name": "stdout",
     "output_type": "stream",
     "text": [
      "\n",
      "\n",
      "\n",
      "\n",
      "\u001b[1mDataframe for Group 2:\u001b[0m\n",
      "\n",
      "     pclass  survived                                               name  \\\n",
      "629       3         0                        Andersson, Mr. Anders Johan   \n",
      "632       3         0  Andersson, Mrs. Anders Johan (Alfrida Konstant...   \n",
      "644       3         0         Asplund, Mr. Carl Oscar Vilhelm Gustafsson   \n",
      "646       3         1  Asplund, Mrs. Carl Oscar (Selma Augusta Emilia...   \n",
      "831       3         0                     Goodwin, Mr. Charles Frederick   \n",
      "\n",
      "        sex   age  sibsp  parch   ticket     fare cabin embarked boat   body  \\\n",
      "629    male  39.0      1      5   347082  31.2750   NaN        S  NaN    NaN   \n",
      "632  female  39.0      1      5   347082  31.2750   NaN        S  NaN    NaN   \n",
      "644    male  40.0      1      5   347077  31.3875   NaN        S  NaN  142.0   \n",
      "646  female  38.0      1      5   347077  31.3875   NaN        S   15    NaN   \n",
      "831    male  40.0      1      6  CA 2144  46.9000   NaN        S  NaN    NaN   \n",
      "\n",
      "                                home.dest  cluster_group  \n",
      "629                   Sweden Winnipeg, MN            2.0  \n",
      "632                   Sweden Winnipeg, MN            2.0  \n",
      "644                 Sweden  Worcester, MA            2.0  \n",
      "646                 Sweden  Worcester, MA            2.0  \n",
      "831  Wiltshire, England Niagara Falls, NY            2.0  \n",
      "\n",
      "\n",
      "\n",
      "\n",
      "\u001b[1mDescription:\u001b[0m\n",
      "\n",
      "       pclass   survived        age      sibsp      parch       fare  \\\n",
      "count    10.0  10.000000   8.000000  10.000000  10.000000  10.000000   \n",
      "mean      3.0   0.100000  39.875000   0.800000   6.000000  42.703750   \n",
      "std       0.0   0.316228   1.552648   0.421637   1.632993  15.590194   \n",
      "min       3.0   0.000000  38.000000   0.000000   5.000000  29.125000   \n",
      "25%       3.0   0.000000  39.000000   1.000000   5.000000  31.303125   \n",
      "50%       3.0   0.000000  39.500000   1.000000   5.000000  35.537500   \n",
      "75%       3.0   0.000000  40.250000   1.000000   6.000000  46.900000   \n",
      "max       3.0   1.000000  43.000000   1.000000   9.000000  69.550000   \n",
      "\n",
      "             body  cluster_group  \n",
      "count    2.000000           10.0  \n",
      "mean   234.500000            2.0  \n",
      "std    130.814755            0.0  \n",
      "min    142.000000            2.0  \n",
      "25%    188.250000            2.0  \n",
      "50%    234.500000            2.0  \n",
      "75%    280.750000            2.0  \n",
      "max    327.000000            2.0  \n"
     ]
    }
   ],
   "source": [
    "print(\"\\n\\n\\n\\n\" + \"\\033[1m\" + \"Dataframe for Group 2:\" + \"\\033[0m\" + \"\\n\")\n",
    "\n",
    "print(titanicDf_copy[ (titanicDf_copy[\"cluster_group\"] == 2) ].head())\n",
    "\n",
    "print(\"\\n\\n\\n\\n\" + \"\\033[1m\" + \"Description:\" + \"\\033[0m\" + \"\\n\")\n",
    "\n",
    "print(titanicDf_copy[ (titanicDf_copy[\"cluster_group\"] == 2) ].describe())"
   ]
  },
  {
   "cell_type": "code",
   "execution_count": 58,
   "metadata": {},
   "outputs": [
    {
     "name": "stdout",
     "output_type": "stream",
     "text": [
      "\n",
      "\n",
      "\n",
      "\n",
      "\u001b[1mDataframe for Group 0:\u001b[0m\n",
      "\n",
      "   pclass  survived                                             name     sex  \\\n",
      "0       1         1                    Allen, Miss. Elisabeth Walton  female   \n",
      "1       1         1                   Allison, Master. Hudson Trevor    male   \n",
      "2       1         0                     Allison, Miss. Helen Loraine  female   \n",
      "3       1         0             Allison, Mr. Hudson Joshua Creighton    male   \n",
      "4       1         0  Allison, Mrs. Hudson J C (Bessie Waldo Daniels)  female   \n",
      "\n",
      "       age  sibsp  parch  ticket      fare    cabin embarked boat   body  \\\n",
      "0  29.0000      0      0   24160  211.3375       B5        S    2    NaN   \n",
      "1   0.9167      1      2  113781  151.5500  C22 C26        S   11    NaN   \n",
      "2   2.0000      1      2  113781  151.5500  C22 C26        S  NaN    NaN   \n",
      "3  30.0000      1      2  113781  151.5500  C22 C26        S  NaN  135.0   \n",
      "4  25.0000      1      2  113781  151.5500  C22 C26        S  NaN    NaN   \n",
      "\n",
      "                         home.dest  cluster_group  \n",
      "0                     St Louis, MO            0.0  \n",
      "1  Montreal, PQ / Chesterville, ON            0.0  \n",
      "2  Montreal, PQ / Chesterville, ON            0.0  \n",
      "3  Montreal, PQ / Chesterville, ON            0.0  \n",
      "4  Montreal, PQ / Chesterville, ON            0.0  \n",
      "\n",
      "\n",
      "\n",
      "\n",
      "\u001b[1mDescription:\u001b[0m\n",
      "\n",
      "            pclass     survived          age        sibsp        parch  \\\n",
      "count  1279.000000  1279.000000  1018.000000  1279.000000  1279.000000   \n",
      "mean      2.309617     0.377639    29.677472     0.486317     0.321345   \n",
      "std       0.829518     0.484986    14.389188     1.039709     0.670720   \n",
      "min       1.000000     0.000000     0.166700     0.000000     0.000000   \n",
      "25%       2.000000     0.000000    21.000000     0.000000     0.000000   \n",
      "50%       3.000000     0.000000    28.000000     0.000000     0.000000   \n",
      "75%       3.000000     1.000000    38.000000     1.000000     0.000000   \n",
      "max       3.000000     1.000000    80.000000     8.000000     4.000000   \n",
      "\n",
      "              fare        body  cluster_group  \n",
      "count  1278.000000  119.000000         1279.0  \n",
      "mean     28.886499  159.571429            0.0  \n",
      "std      36.849148   97.302914            0.0  \n",
      "min       0.000000    1.000000            0.0  \n",
      "25%       7.895800   71.000000            0.0  \n",
      "50%      13.881250  155.000000            0.0  \n",
      "75%      30.000000  255.500000            0.0  \n",
      "max     227.525000  328.000000            0.0  \n"
     ]
    }
   ],
   "source": [
    "print(\"\\n\\n\\n\\n\" + \"\\033[1m\" + \"Dataframe for Group 0:\" + \"\\033[0m\" + \"\\n\")\n",
    "\n",
    "print(titanicDf_copy[ (titanicDf_copy[\"cluster_group\"] == 0) ].head())\n",
    "\n",
    "print(\"\\n\\n\\n\\n\" + \"\\033[1m\" + \"Description:\" + \"\\033[0m\" + \"\\n\")\n",
    "\n",
    "print(titanicDf_copy[ (titanicDf_copy[\"cluster_group\"] == 0) ].describe())"
   ]
  },
  {
   "cell_type": "code",
   "execution_count": 60,
   "metadata": {},
   "outputs": [
    {
     "data": {
      "text/html": [
       "<div>\n",
       "<style scoped>\n",
       "    .dataframe tbody tr th:only-of-type {\n",
       "        vertical-align: middle;\n",
       "    }\n",
       "\n",
       "    .dataframe tbody tr th {\n",
       "        vertical-align: top;\n",
       "    }\n",
       "\n",
       "    .dataframe thead th {\n",
       "        text-align: right;\n",
       "    }\n",
       "</style>\n",
       "<table border=\"1\" class=\"dataframe\">\n",
       "  <thead>\n",
       "    <tr style=\"text-align: right;\">\n",
       "      <th></th>\n",
       "      <th>pclass</th>\n",
       "      <th>survived</th>\n",
       "      <th>age</th>\n",
       "      <th>sibsp</th>\n",
       "      <th>parch</th>\n",
       "      <th>fare</th>\n",
       "      <th>body</th>\n",
       "      <th>cluster_group</th>\n",
       "    </tr>\n",
       "  </thead>\n",
       "  <tbody>\n",
       "    <tr>\n",
       "      <th>count</th>\n",
       "      <td>303.0</td>\n",
       "      <td>303.000000</td>\n",
       "      <td>264.000000</td>\n",
       "      <td>303.000000</td>\n",
       "      <td>303.000000</td>\n",
       "      <td>303.000000</td>\n",
       "      <td>35.000000</td>\n",
       "      <td>303.0</td>\n",
       "    </tr>\n",
       "    <tr>\n",
       "      <th>mean</th>\n",
       "      <td>1.0</td>\n",
       "      <td>0.607261</td>\n",
       "      <td>39.380366</td>\n",
       "      <td>0.389439</td>\n",
       "      <td>0.280528</td>\n",
       "      <td>72.801650</td>\n",
       "      <td>162.828571</td>\n",
       "      <td>0.0</td>\n",
       "    </tr>\n",
       "    <tr>\n",
       "      <th>std</th>\n",
       "      <td>0.0</td>\n",
       "      <td>0.489168</td>\n",
       "      <td>14.441950</td>\n",
       "      <td>0.521226</td>\n",
       "      <td>0.578749</td>\n",
       "      <td>52.134338</td>\n",
       "      <td>82.652172</td>\n",
       "      <td>0.0</td>\n",
       "    </tr>\n",
       "    <tr>\n",
       "      <th>min</th>\n",
       "      <td>1.0</td>\n",
       "      <td>0.000000</td>\n",
       "      <td>0.916700</td>\n",
       "      <td>0.000000</td>\n",
       "      <td>0.000000</td>\n",
       "      <td>0.000000</td>\n",
       "      <td>16.000000</td>\n",
       "      <td>0.0</td>\n",
       "    </tr>\n",
       "    <tr>\n",
       "      <th>25%</th>\n",
       "      <td>1.0</td>\n",
       "      <td>0.000000</td>\n",
       "      <td>29.000000</td>\n",
       "      <td>0.000000</td>\n",
       "      <td>0.000000</td>\n",
       "      <td>30.500000</td>\n",
       "      <td>109.500000</td>\n",
       "      <td>0.0</td>\n",
       "    </tr>\n",
       "    <tr>\n",
       "      <th>50%</th>\n",
       "      <td>1.0</td>\n",
       "      <td>1.000000</td>\n",
       "      <td>39.000000</td>\n",
       "      <td>0.000000</td>\n",
       "      <td>0.000000</td>\n",
       "      <td>57.000000</td>\n",
       "      <td>166.000000</td>\n",
       "      <td>0.0</td>\n",
       "    </tr>\n",
       "    <tr>\n",
       "      <th>75%</th>\n",
       "      <td>1.0</td>\n",
       "      <td>1.000000</td>\n",
       "      <td>50.000000</td>\n",
       "      <td>1.000000</td>\n",
       "      <td>0.000000</td>\n",
       "      <td>89.104200</td>\n",
       "      <td>233.000000</td>\n",
       "      <td>0.0</td>\n",
       "    </tr>\n",
       "    <tr>\n",
       "      <th>max</th>\n",
       "      <td>1.0</td>\n",
       "      <td>1.000000</td>\n",
       "      <td>80.000000</td>\n",
       "      <td>2.000000</td>\n",
       "      <td>2.000000</td>\n",
       "      <td>227.525000</td>\n",
       "      <td>307.000000</td>\n",
       "      <td>0.0</td>\n",
       "    </tr>\n",
       "  </tbody>\n",
       "</table>\n",
       "</div>"
      ],
      "text/plain": [
       "       pclass    survived         age       sibsp       parch        fare  \\\n",
       "count   303.0  303.000000  264.000000  303.000000  303.000000  303.000000   \n",
       "mean      1.0    0.607261   39.380366    0.389439    0.280528   72.801650   \n",
       "std       0.0    0.489168   14.441950    0.521226    0.578749   52.134338   \n",
       "min       1.0    0.000000    0.916700    0.000000    0.000000    0.000000   \n",
       "25%       1.0    0.000000   29.000000    0.000000    0.000000   30.500000   \n",
       "50%       1.0    1.000000   39.000000    0.000000    0.000000   57.000000   \n",
       "75%       1.0    1.000000   50.000000    1.000000    0.000000   89.104200   \n",
       "max       1.0    1.000000   80.000000    2.000000    2.000000  227.525000   \n",
       "\n",
       "             body  cluster_group  \n",
       "count   35.000000          303.0  \n",
       "mean   162.828571            0.0  \n",
       "std     82.652172            0.0  \n",
       "min     16.000000            0.0  \n",
       "25%    109.500000            0.0  \n",
       "50%    166.000000            0.0  \n",
       "75%    233.000000            0.0  \n",
       "max    307.000000            0.0  "
      ]
     },
     "execution_count": 60,
     "metadata": {},
     "output_type": "execute_result"
    }
   ],
   "source": [
    "## Now lets check that in cluster_0 how many people we have with pclass = 1.\n",
    "\n",
    "cluster_0 = titanicDf_copy[ (titanicDf_copy[\"cluster_group\"] == 0) ]\n",
    "\n",
    "cluster_0_fc = cluster_0[ (cluster_0[\"pclass\"] == 1) ]\n",
    "\n",
    "cluster_0_fc.describe()"
   ]
  },
  {
   "cell_type": "code",
   "execution_count": null,
   "metadata": {},
   "outputs": [],
   "source": []
  }
 ],
 "metadata": {
  "kernelspec": {
   "display_name": "Python 3",
   "language": "python",
   "name": "python3"
  },
  "language_info": {
   "codemirror_mode": {
    "name": "ipython",
    "version": 3
   },
   "file_extension": ".py",
   "mimetype": "text/x-python",
   "name": "python",
   "nbconvert_exporter": "python",
   "pygments_lexer": "ipython3",
   "version": "3.7.3"
  }
 },
 "nbformat": 4,
 "nbformat_minor": 2
}
